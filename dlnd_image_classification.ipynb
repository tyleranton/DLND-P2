{
 "cells": [
  {
   "cell_type": "markdown",
   "metadata": {
    "collapsed": true,
    "deletable": true,
    "editable": true
   },
   "source": [
    "# Image Classification\n",
    "In this project, you'll classify images from the [CIFAR-10 dataset](https://www.cs.toronto.edu/~kriz/cifar.html).  The dataset consists of airplanes, dogs, cats, and other objects. You'll preprocess the images, then train a convolutional neural network on all the samples. The images need to be normalized and the labels need to be one-hot encoded.  You'll get to apply what you learned and build a convolutional, max pooling, dropout, and fully connected layers.  At the end, you'll get to see your neural network's predictions on the sample images.\n",
    "## Get the Data\n",
    "Run the following cell to download the [CIFAR-10 dataset for python](https://www.cs.toronto.edu/~kriz/cifar-10-python.tar.gz)."
   ]
  },
  {
   "cell_type": "code",
   "execution_count": 1,
   "metadata": {
    "collapsed": false,
    "deletable": true,
    "editable": true
   },
   "outputs": [
    {
     "name": "stdout",
     "output_type": "stream",
     "text": [
      "All files found!\n"
     ]
    }
   ],
   "source": [
    "\"\"\"\n",
    "DON'T MODIFY ANYTHING IN THIS CELL THAT IS BELOW THIS LINE\n",
    "\"\"\"\n",
    "from urllib.request import urlretrieve\n",
    "from os.path import isfile, isdir\n",
    "from tqdm import tqdm\n",
    "import problem_unittests as tests\n",
    "import tarfile\n",
    "\n",
    "cifar10_dataset_folder_path = 'cifar-10-batches-py'\n",
    "\n",
    "# Use Floyd's cifar-10 dataset if present\n",
    "floyd_cifar10_location = '/input/cifar-10/python.tar.gz'\n",
    "if isfile(floyd_cifar10_location):\n",
    "    tar_gz_path = floyd_cifar10_location\n",
    "else:\n",
    "    tar_gz_path = 'cifar-10-python.tar.gz'\n",
    "\n",
    "class DLProgress(tqdm):\n",
    "    last_block = 0\n",
    "\n",
    "    def hook(self, block_num=1, block_size=1, total_size=None):\n",
    "        self.total = total_size\n",
    "        self.update((block_num - self.last_block) * block_size)\n",
    "        self.last_block = block_num\n",
    "\n",
    "if not isfile(tar_gz_path):\n",
    "    with DLProgress(unit='B', unit_scale=True, miniters=1, desc='CIFAR-10 Dataset') as pbar:\n",
    "        urlretrieve(\n",
    "            'https://www.cs.toronto.edu/~kriz/cifar-10-python.tar.gz',\n",
    "            tar_gz_path,\n",
    "            pbar.hook)\n",
    "\n",
    "if not isdir(cifar10_dataset_folder_path):\n",
    "    with tarfile.open(tar_gz_path) as tar:\n",
    "        tar.extractall()\n",
    "        tar.close()\n",
    "\n",
    "\n",
    "tests.test_folder_path(cifar10_dataset_folder_path)"
   ]
  },
  {
   "cell_type": "markdown",
   "metadata": {
    "deletable": true,
    "editable": true
   },
   "source": [
    "## Explore the Data\n",
    "The dataset is broken into batches to prevent your machine from running out of memory.  The CIFAR-10 dataset consists of 5 batches, named `data_batch_1`, `data_batch_2`, etc.. Each batch contains the labels and images that are one of the following:\n",
    "* airplane\n",
    "* automobile\n",
    "* bird\n",
    "* cat\n",
    "* deer\n",
    "* dog\n",
    "* frog\n",
    "* horse\n",
    "* ship\n",
    "* truck\n",
    "\n",
    "Understanding a dataset is part of making predictions on the data.  Play around with the code cell below by changing the `batch_id` and `sample_id`. The `batch_id` is the id for a batch (1-5). The `sample_id` is the id for a image and label pair in the batch.\n",
    "\n",
    "Ask yourself \"What are all possible labels?\", \"What is the range of values for the image data?\", \"Are the labels in order or random?\".  Answers to questions like these will help you preprocess the data and end up with better predictions."
   ]
  },
  {
   "cell_type": "code",
   "execution_count": 2,
   "metadata": {
    "collapsed": false,
    "deletable": true,
    "editable": true
   },
   "outputs": [
    {
     "name": "stdout",
     "output_type": "stream",
     "text": [
      "\n",
      "Stats of batch 1:\n",
      "Samples: 10000\n",
      "Label Counts: {0: 1005, 1: 974, 2: 1032, 3: 1016, 4: 999, 5: 937, 6: 1030, 7: 1001, 8: 1025, 9: 981}\n",
      "First 20 Labels: [6, 9, 9, 4, 1, 1, 2, 7, 8, 3, 4, 7, 7, 2, 9, 9, 9, 3, 2, 6]\n",
      "\n",
      "Example of Image 5:\n",
      "Image - Min Value: 0 Max Value: 252\n",
      "Image - Shape: (32, 32, 3)\n",
      "Label - Label Id: 1 Name: automobile\n"
     ]
    },
    {
     "data": {
      "image/png": "[encoded data removed]",
      "text/plain": [
       "<matplotlib.figure.Figure at 0x7ffae57067b8>"
      ]
     },
     "metadata": {
      "image/png": {
       "height": 250,
       "width": 253
      }
     },
     "output_type": "display_data"
    }
   ],
   "source": [
    "%matplotlib inline\n",
    "%config InlineBackend.figure_format = 'retina'\n",
    "\n",
    "import helper\n",
    "import numpy as np\n",
    "\n",
    "# Explore the dataset\n",
    "batch_id = 1\n",
    "sample_id = 5\n",
    "helper.display_stats(cifar10_dataset_folder_path, batch_id, sample_id)"
   ]
  },
  {
   "cell_type": "markdown",
   "metadata": {
    "deletable": true,
    "editable": true
   },
   "source": [
    "## Implement Preprocess Functions\n",
    "### Normalize\n",
    "In the cell below, implement the `normalize` function to take in image data, `x`, and return it as a normalized Numpy array. The values should be in the range of 0 to 1, inclusive.  The return object should be the same shape as `x`."
   ]
  },
  {
   "cell_type": "code",
   "execution_count": 3,
   "metadata": {
    "collapsed": false,
    "deletable": true,
    "editable": true
   },
   "outputs": [
    {
     "name": "stdout",
     "output_type": "stream",
     "text": [
      "Tests Passed\n"
     ]
    }
   ],
   "source": [
    "def normalize(x):\n",
    "    \"\"\"\n",
    "    Normalize a list of sample image data in the range of 0 to 1\n",
    "    : x: List of image data.  The image shape is (32, 32, 3)\n",
    "    : return: Numpy array of normalize data\n",
    "    \"\"\"\n",
    "    # TODO: Implement Function\n",
    "    return np.array(x) / 255\n",
    "\n",
    "\n",
    "\"\"\"\n",
    "DON'T MODIFY ANYTHING IN THIS CELL THAT IS BELOW THIS LINE\n",
    "\"\"\"\n",
    "tests.test_normalize(normalize)"
   ]
  },
  {
   "cell_type": "markdown",
   "metadata": {
    "deletable": true,
    "editable": true
   },
   "source": [
    "### One-hot encode\n",
    "Just like the previous code cell, you'll be implementing a function for preprocessing.  This time, you'll implement the `one_hot_encode` function. The input, `x`, are a list of labels.  Implement the function to return the list of labels as One-Hot encoded Numpy array.  The possible values for labels are 0 to 9. The one-hot encoding function should return the same encoding for each value between each call to `one_hot_encode`.  Make sure to save the map of encodings outside the function.\n",
    "\n",
    "Hint: Don't reinvent the wheel."
   ]
  },
  {
   "cell_type": "code",
   "execution_count": 5,
   "metadata": {
    "collapsed": false,
    "deletable": true,
    "editable": true
   },
   "outputs": [
    {
     "name": "stdout",
     "output_type": "stream",
     "text": [
      "Tests Passed\n"
     ]
    }
   ],
   "source": [
    "from sklearn import preprocessing\n",
    "\n",
    "def one_hot_encode(x):\n",
    "    \"\"\"\n",
    "    One hot encode a list of sample labels. Return a one-hot encoded vector for each label.\n",
    "    : x: List of sample Labels\n",
    "    : return: Numpy array of one-hot encoded labels\n",
    "    \"\"\"\n",
    "    # TODO: Implement Function\n",
    "    encodings = np.array([0,1,2,3,4,5,6,7,8,9])\n",
    "    lb = preprocessing.LabelBinarizer()\n",
    "    lb.fit(encodings)\n",
    "    return lb.transform(x)\n",
    "\n",
    "\n",
    "\"\"\"\n",
    "DON'T MODIFY ANYTHING IN THIS CELL THAT IS BELOW THIS LINE\n",
    "\"\"\"\n",
    "tests.test_one_hot_encode(one_hot_encode)"
   ]
  },
  {
   "cell_type": "markdown",
   "metadata": {
    "deletable": true,
    "editable": true
   },
   "source": [
    "### Randomize Data\n",
    "As you saw from exploring the data above, the order of the samples are randomized.  It doesn't hurt to randomize it again, but you don't need to for this dataset."
   ]
  },
  {
   "cell_type": "markdown",
   "metadata": {
    "deletable": true,
    "editable": true
   },
   "source": [
    "## Preprocess all the data and save it\n",
    "Running the code cell below will preprocess all the CIFAR-10 data and save it to file. The code below also uses 10% of the training data for validation."
   ]
  },
  {
   "cell_type": "code",
   "execution_count": 6,
   "metadata": {
    "collapsed": false,
    "deletable": true,
    "editable": true
   },
   "outputs": [],
   "source": [
    "\"\"\"\n",
    "DON'T MODIFY ANYTHING IN THIS CELL\n",
    "\"\"\"\n",
    "# Preprocess Training, Validation, and Testing Data\n",
    "helper.preprocess_and_save_data(cifar10_dataset_folder_path, normalize, one_hot_encode)"
   ]
  },
  {
   "cell_type": "markdown",
   "metadata": {
    "deletable": true,
    "editable": true
   },
   "source": [
    "# Check Point\n",
    "This is your first checkpoint.  If you ever decide to come back to this notebook or have to restart the notebook, you can start from here.  The preprocessed data has been saved to disk."
   ]
  },
  {
   "cell_type": "code",
   "execution_count": 7,
   "metadata": {
    "collapsed": true,
    "deletable": true,
    "editable": true
   },
   "outputs": [],
   "source": [
    "\"\"\"\n",
    "DON'T MODIFY ANYTHING IN THIS CELL\n",
    "\"\"\"\n",
    "import pickle\n",
    "import problem_unittests as tests\n",
    "import helper\n",
    "\n",
    "# Load the Preprocessed Validation data\n",
    "valid_features, valid_labels = pickle.load(open('preprocess_validation.p', mode='rb'))"
   ]
  },
  {
   "cell_type": "markdown",
   "metadata": {
    "deletable": true,
    "editable": true
   },
   "source": [
    "## Build the network\n",
    "For the neural network, you'll build each layer into a function.  Most of the code you've seen has been outside of functions. To test your code more thoroughly, we require that you put each layer in a function.  This allows us to give you better feedback and test for simple mistakes using our unittests before you submit your project.\n",
    "\n",
    "If you're finding it hard to dedicate enough time for this course a week, we've provided a small shortcut to this part of the project. In the next couple of problems, you'll have the option to use [TensorFlow Layers](https://www.tensorflow.org/api_docs/python/tf/layers) or [TensorFlow Layers (contrib)](https://www.tensorflow.org/api_guides/python/contrib.layers) to build each layer, except \"Convolutional & Max Pooling\" layer.  TF Layers is similar to Keras's and TFLearn's abstraction to layers, so it's easy to pickup.\n",
    "\n",
    "If you would like to get the most of this course, try to solve all the problems without TF Layers.  Let's begin!\n",
    "### Input\n",
    "The neural network needs to read the image data, one-hot encoded labels, and dropout keep probability. Implement the following functions\n",
    "* Implement `neural_net_image_input`\n",
    " * Return a [TF Placeholder](https://www.tensorflow.org/api_docs/python/tf/placeholder)\n",
    " * Set the shape using `image_shape` with batch size set to `None`.\n",
    " * Name the TensorFlow placeholder \"x\" using the TensorFlow `name` parameter in the [TF Placeholder](https://www.tensorflow.org/api_docs/python/tf/placeholder).\n",
    "* Implement `neural_net_label_input`\n",
    " * Return a [TF Placeholder](https://www.tensorflow.org/api_docs/python/tf/placeholder)\n",
    " * Set the shape using `n_classes` with batch size set to `None`.\n",
    " * Name the TensorFlow placeholder \"y\" using the TensorFlow `name` parameter in the [TF Placeholder](https://www.tensorflow.org/api_docs/python/tf/placeholder).\n",
    "* Implement `neural_net_keep_prob_input`\n",
    " * Return a [TF Placeholder](https://www.tensorflow.org/api_docs/python/tf/placeholder) for dropout keep probability.\n",
    " * Name the TensorFlow placeholder \"keep_prob\" using the TensorFlow `name` parameter in the [TF Placeholder](https://www.tensorflow.org/api_docs/python/tf/placeholder).\n",
    "\n",
    "These names will be used at the end of the project to load your saved model.\n",
    "\n",
    "Note: `None` for shapes in TensorFlow allow for a dynamic size."
   ]
  },
  {
   "cell_type": "code",
   "execution_count": 8,
   "metadata": {
    "collapsed": false,
    "deletable": true,
    "editable": true
   },
   "outputs": [
    {
     "name": "stdout",
     "output_type": "stream",
     "text": [
      "Image Input Tests Passed.\n",
      "Label Input Tests Passed.\n",
      "Keep Prob Tests Passed.\n"
     ]
    }
   ],
   "source": [
    "import tensorflow as tf\n",
    "\n",
    "def neural_net_image_input(image_shape):\n",
    "    \"\"\"\n",
    "    Return a Tensor for a bach of image input\n",
    "    : image_shape: Shape of the images\n",
    "    : return: Tensor for image input.\n",
    "    \"\"\"\n",
    "    # TODO: Implement Function\n",
    "    width, height, depth = image_shape\n",
    "    return tf.placeholder(tf.float32, [None, width, height, depth], \"x\")\n",
    "\n",
    "\n",
    "def neural_net_label_input(n_classes):\n",
    "    \"\"\"\n",
    "    Return a Tensor for a batch of label input\n",
    "    : n_classes: Number of classes\n",
    "    : return: Tensor for label input.\n",
    "    \"\"\"\n",
    "    # TODO: Implement Function\n",
    "    return tf.placeholder(tf.float32, [None, n_classes], \"y\")\n",
    "\n",
    "\n",
    "def neural_net_keep_prob_input():\n",
    "    \"\"\"\n",
    "    Return a Tensor for keep probability\n",
    "    : return: Tensor for keep probability.\n",
    "    \"\"\"\n",
    "    # TODO: Implement Function\n",
    "    return tf.placeholder(tf.float32, None, \"keep_prob\")\n",
    "\n",
    "\n",
    "\"\"\"\n",
    "DON'T MODIFY ANYTHING IN THIS CELL THAT IS BELOW THIS LINE\n",
    "\"\"\"\n",
    "tf.reset_default_graph()\n",
    "tests.test_nn_image_inputs(neural_net_image_input)\n",
    "tests.test_nn_label_inputs(neural_net_label_input)\n",
    "tests.test_nn_keep_prob_inputs(neural_net_keep_prob_input)"
   ]
  },
  {
   "cell_type": "markdown",
   "metadata": {
    "deletable": true,
    "editable": true
   },
   "source": [
    "### Convolution and Max Pooling Layer\n",
    "Convolution layers have a lot of success with images. For this code cell, you should implement the function `conv2d_maxpool` to apply convolution then max pooling:\n",
    "* Create the weight and bias using `conv_ksize`, `conv_num_outputs` and the shape of `x_tensor`.\n",
    "* Apply a convolution to `x_tensor` using weight and `conv_strides`.\n",
    " * We recommend you use same padding, but you're welcome to use any padding.\n",
    "* Add bias\n",
    "* Add a nonlinear activation to the convolution.\n",
    "* Apply Max Pooling using `pool_ksize` and `pool_strides`.\n",
    " * We recommend you use same padding, but you're welcome to use any padding.\n",
    "\n",
    "Note: You **can't** use [TensorFlow Layers](https://www.tensorflow.org/api_docs/python/tf/layers) or [TensorFlow Layers (contrib)](https://www.tensorflow.org/api_guides/python/contrib.layers) for this layer.  You're free to use any TensorFlow package for all the other layers."
   ]
  },
  {
   "cell_type": "code",
   "execution_count": 58,
   "metadata": {
    "collapsed": false,
    "deletable": true,
    "editable": true
   },
   "outputs": [
    {
     "name": "stdout",
     "output_type": "stream",
     "text": [
      "Tests Passed\n"
     ]
    }
   ],
   "source": [
    "def conv2d_maxpool(x_tensor, conv_num_outputs, conv_ksize, conv_strides, pool_ksize, pool_strides):\n",
    "    \"\"\"\n",
    "    Apply convolution then max pooling to x_tensor\n",
    "    :param x_tensor: TensorFlow Tensor\n",
    "    :param conv_num_outputs: Number of outputs for the convolutional layer\n",
    "    :param conv_strides: Stride 2-D Tuple for convolution\n",
    "    :param pool_ksize: kernal size 2-D Tuple for pool\n",
    "    :param pool_strides: Stride 2-D Tuple for pool\n",
    "    : return: A tensor that represents convolution and max pooling of x_tensor\n",
    "    \"\"\"\n",
    "    # TODO: Implement Function\n",
    "    filter_size_height = conv_ksize[0]\n",
    "    filter_size_width = conv_ksize[1]\n",
    "    filter_size_depth = x_tensor.get_shape()[3].value\n",
    "    \n",
    "    W = tf.Variable(tf.truncated_normal(\n",
    "        shape=[filter_size_height,filter_size_width, filter_size_depth, conv_num_outputs],\n",
    "        mean=0,\n",
    "        stddev=0.1))\n",
    "    b = tf.Variable(tf.zeros(conv_num_outputs))\n",
    "    \n",
    "    x = tf.nn.conv2d(x_tensor, W, strides=[1, conv_strides[0], conv_strides[1], 1], padding=\"SAME\")\n",
    "    x = tf.nn.bias_add(x, b)\n",
    "    x = tf.nn.relu(x)\n",
    "    \n",
    "    return tf.nn.max_pool(\n",
    "        x,\n",
    "        ksize=[1, pool_ksize[0], pool_ksize[1], 1],\n",
    "        strides=[1, pool_strides[0], pool_strides[1], 1],\n",
    "        padding=\"SAME\"\n",
    "    )\n",
    "\n",
    "\n",
    "\"\"\"\n",
    "DON'T MODIFY ANYTHING IN THIS CELL THAT IS BELOW THIS LINE\n",
    "\"\"\"\n",
    "tests.test_con_pool(conv2d_maxpool)"
   ]
  },
  {
   "cell_type": "markdown",
   "metadata": {
    "deletable": true,
    "editable": true
   },
   "source": [
    "### Flatten Layer\n",
    "Implement the `flatten` function to change the dimension of `x_tensor` from a 4-D tensor to a 2-D tensor.  The output should be the shape (*Batch Size*, *Flattened Image Size*). You can use [TensorFlow Layers](https://www.tensorflow.org/api_docs/python/tf/layers) or [TensorFlow Layers (contrib)](https://www.tensorflow.org/api_guides/python/contrib.layers) for this layer."
   ]
  },
  {
   "cell_type": "code",
   "execution_count": 59,
   "metadata": {
    "collapsed": false,
    "deletable": true,
    "editable": true
   },
   "outputs": [
    {
     "name": "stdout",
     "output_type": "stream",
     "text": [
      "Tests Passed\n"
     ]
    }
   ],
   "source": [
    "def flatten(x_tensor):\n",
    "    \"\"\"\n",
    "    Flatten x_tensor to (Batch Size, Flattened Image Size)\n",
    "    : x_tensor: A tensor of size (Batch Size, ...), where ... are the image dimensions.\n",
    "    : return: A tensor of size (Batch Size, Flattened Image Size).\n",
    "    \"\"\"\n",
    "    # TODO: Implement Function\n",
    "    f_image_size = x_tensor.get_shape()[1].value * x_tensor.get_shape()[2].value * x_tensor.get_shape()[3].value\n",
    "    return tf.reshape(x_tensor, [-1, f_image_size])\n",
    "\n",
    "\n",
    "\"\"\"\n",
    "DON'T MODIFY ANYTHING IN THIS CELL THAT IS BELOW THIS LINE\n",
    "\"\"\"\n",
    "tests.test_flatten(flatten)"
   ]
  },
  {
   "cell_type": "markdown",
   "metadata": {
    "deletable": true,
    "editable": true
   },
   "source": [
    "### Fully-Connected Layer\n",
    "Implement the `fully_conn` function to apply a fully connected layer to `x_tensor` with the shape (*Batch Size*, *num_outputs*). You can use [TensorFlow Layers](https://www.tensorflow.org/api_docs/python/tf/layers) or [TensorFlow Layers (contrib)](https://www.tensorflow.org/api_guides/python/contrib.layers) for this layer."
   ]
  },
  {
   "cell_type": "code",
   "execution_count": 67,
   "metadata": {
    "collapsed": false,
    "deletable": true,
    "editable": true
   },
   "outputs": [
    {
     "name": "stdout",
     "output_type": "stream",
     "text": [
      "Tests Passed\n"
     ]
    }
   ],
   "source": [
    "def fully_conn(x_tensor, num_outputs):\n",
    "    \"\"\"\n",
    "    Apply a fully connected layer to x_tensor using weight and bias\n",
    "    : x_tensor: A 2-D tensor where the first dimension is batch size.\n",
    "    : num_outputs: The number of output that the new tensor should be.\n",
    "    : return: A 2-D tensor where the second dimension is num_outputs.\n",
    "    \"\"\"\n",
    "    # TODO: Implement Function\n",
    "    W = tf.Variable(tf.truncated_normal(shape=[x_tensor.get_shape()[1].value, num_outputs], mean=0, stddev=0.1))\n",
    "    b = tf.Variable(tf.zeros(num_outputs))\n",
    "    return tf.nn.bias_add(tf.matmul(x_tensor, W), b)\n",
    "\n",
    "\n",
    "\"\"\"\n",
    "DON'T MODIFY ANYTHING IN THIS CELL THAT IS BELOW THIS LINE\n",
    "\"\"\"\n",
    "tests.test_fully_conn(fully_conn)"
   ]
  },
  {
   "cell_type": "markdown",
   "metadata": {
    "deletable": true,
    "editable": true
   },
   "source": [
    "### Output Layer\n",
    "Implement the `output` function to apply a fully connected layer to `x_tensor` with the shape (*Batch Size*, *num_outputs*). You can use [TensorFlow Layers](https://www.tensorflow.org/api_docs/python/tf/layers) or [TensorFlow Layers (contrib)](https://www.tensorflow.org/api_guides/python/contrib.layers) for this layer.\n",
    "\n",
    "Note: Activation, softmax, or cross entropy shouldn't be applied to this."
   ]
  },
  {
   "cell_type": "code",
   "execution_count": 68,
   "metadata": {
    "collapsed": false,
    "deletable": true,
    "editable": true
   },
   "outputs": [
    {
     "name": "stdout",
     "output_type": "stream",
     "text": [
      "Tests Passed\n"
     ]
    }
   ],
   "source": [
    "def output(x_tensor, num_outputs):\n",
    "    \"\"\"\n",
    "    Apply a output layer to x_tensor using weight and bias\n",
    "    : x_tensor: A 2-D tensor where the first dimension is batch size.\n",
    "    : num_outputs: The number of output that the new tensor should be.\n",
    "    : return: A 2-D tensor where the second dimension is num_outputs.\n",
    "    \"\"\"\n",
    "    # TODO: Implement Function\n",
    "    W = tf.Variable(tf.truncated_normal(shape=[x_tensor.get_shape()[1].value, num_outputs], mean=0, stddev=0.1))\n",
    "    b = tf.Variable(tf.zeros(num_outputs))\n",
    "    return tf.nn.bias_add(tf.matmul(x_tensor, W), b)\n",
    "\n",
    "\n",
    "\"\"\"\n",
    "DON'T MODIFY ANYTHING IN THIS CELL THAT IS BELOW THIS LINE\n",
    "\"\"\"\n",
    "tests.test_output(output)"
   ]
  },
  {
   "cell_type": "markdown",
   "metadata": {
    "deletable": true,
    "editable": true
   },
   "source": [
    "### Create Convolutional Model\n",
    "Implement the function `conv_net` to create a convolutional neural network model. The function takes in a batch of images, `x`, and outputs logits.  Use the layers you created above to create this model:\n",
    "\n",
    "* Apply 1, 2, or 3 Convolution and Max Pool layers\n",
    "* Apply a Flatten Layer\n",
    "* Apply 1, 2, or 3 Fully Connected Layers\n",
    "* Apply an Output Layer\n",
    "* Return the output\n",
    "* Apply [TensorFlow's Dropout](https://www.tensorflow.org/api_docs/python/tf/nn/dropout) to one or more layers in the model using `keep_prob`. "
   ]
  },
  {
   "cell_type": "code",
   "execution_count": 105,
   "metadata": {
    "collapsed": false,
    "deletable": true,
    "editable": true
   },
   "outputs": [
    {
     "name": "stdout",
     "output_type": "stream",
     "text": [
      "Neural Network Built!\n"
     ]
    }
   ],
   "source": [
    "def conv_net(x, keep_prob):\n",
    "    \"\"\"\n",
    "    Create a convolutional neural network model\n",
    "    : x: Placeholder tensor that holds image data.\n",
    "    : keep_prob: Placeholder tensor that hold dropout keep probability.\n",
    "    : return: Tensor that represents logits\n",
    "    \"\"\"\n",
    "    # TODO: Apply 1, 2, or 3 Convolution and Max Pool layers\n",
    "    #    Play around with different number of outputs, kernel size and stride\n",
    "    # Function Definition from Above:\n",
    "    #    conv2d_maxpool(x_tensor, conv_num_outputs, conv_ksize, conv_strides, pool_ksize, pool_strides)\n",
    "    conv1 = conv2d_maxpool(x, 20, [14, 14], [2, 2], [2, 2], [2, 2])\n",
    "    conv1 = tf.nn.dropout(conv1, keep_prob)\n",
    "    #conv2 = conv2d_maxpool(conv1, 40, [8, 8], [1, 1], [2, 2], [2, 2])\n",
    "\n",
    "    # TODO: Apply a Flatten Layer\n",
    "    # Function Definition from Above:\n",
    "    #   flatten(x_tensor)\n",
    "    flat = flatten(conv1)\n",
    "\n",
    "    # TODO: Apply 1, 2, or 3 Fully Connected Layers\n",
    "    #    Play around with different number of outputs\n",
    "    # Function Definition from Above:\n",
    "    #   fully_conn(x_tensor, num_outputs)\n",
    "    fc1 = fully_conn(flat, 64)\n",
    "    fc1 = tf.nn.dropout(fc1, keep_prob)\n",
    "    \n",
    "    # TODO: Apply an Output Layer\n",
    "    #    Set this to the number of classes\n",
    "    # Function Definition from Above:\n",
    "    #   output(x_tensor, num_outputs)\n",
    "    op = output(fc1, 10)\n",
    "    \n",
    "    # TODO: return output\n",
    "    return op\n",
    "\n",
    "\n",
    "\"\"\"\n",
    "DON'T MODIFY ANYTHING IN THIS CELL THAT IS BELOW THIS LINE\n",
    "\"\"\"\n",
    "\n",
    "##############################\n",
    "## Build the Neural Network ##\n",
    "##############################\n",
    "\n",
    "# Remove previous weights, bias, inputs, etc..\n",
    "tf.reset_default_graph()\n",
    "\n",
    "# Inputs\n",
    "x = neural_net_image_input((32, 32, 3))\n",
    "y = neural_net_label_input(10)\n",
    "keep_prob = neural_net_keep_prob_input()\n",
    "\n",
    "# Model\n",
    "logits = conv_net(x, keep_prob)\n",
    "\n",
    "# Name logits Tensor, so that is can be loaded from disk after training\n",
    "logits = tf.identity(logits, name='logits')\n",
    "\n",
    "# Loss and Optimizer\n",
    "cost = tf.reduce_mean(tf.nn.softmax_cross_entropy_with_logits(logits=logits, labels=y))\n",
    "optimizer = tf.train.AdamOptimizer().minimize(cost)\n",
    "\n",
    "# Accuracy\n",
    "correct_pred = tf.equal(tf.argmax(logits, 1), tf.argmax(y, 1))\n",
    "accuracy = tf.reduce_mean(tf.cast(correct_pred, tf.float32), name='accuracy')\n",
    "\n",
    "tests.test_conv_net(conv_net)"
   ]
  },
  {
   "cell_type": "markdown",
   "metadata": {
    "deletable": true,
    "editable": true
   },
   "source": [
    "## Train the Neural Network\n",
    "### Single Optimization\n",
    "Implement the function `train_neural_network` to do a single optimization.  The optimization should use `optimizer` to optimize in `session` with a `feed_dict` of the following:\n",
    "* `x` for image input\n",
    "* `y` for labels\n",
    "* `keep_prob` for keep probability for dropout\n",
    "\n",
    "This function will be called for each batch, so `tf.global_variables_initializer()` has already been called.\n",
    "\n",
    "Note: Nothing needs to be returned. This function is only optimizing the neural network."
   ]
  },
  {
   "cell_type": "code",
   "execution_count": 106,
   "metadata": {
    "collapsed": false,
    "deletable": true,
    "editable": true
   },
   "outputs": [
    {
     "name": "stdout",
     "output_type": "stream",
     "text": [
      "Tests Passed\n"
     ]
    }
   ],
   "source": [
    "def train_neural_network(session, optimizer, keep_probability, feature_batch, label_batch):\n",
    "    \"\"\"\n",
    "    Optimize the session on a batch of images and labels\n",
    "    : session: Current TensorFlow session\n",
    "    : optimizer: TensorFlow optimizer function\n",
    "    : keep_probability: keep probability\n",
    "    : feature_batch: Batch of Numpy image data\n",
    "    : label_batch: Batch of Numpy label data\n",
    "    \"\"\"\n",
    "    # TODO: Implement Function\n",
    "    feed_dict = {x: feature_batch, y: label_batch, keep_prob: keep_probability}\n",
    "    session.run(optimizer, feed_dict)\n",
    "\n",
    "\n",
    "\"\"\"\n",
    "DON'T MODIFY ANYTHING IN THIS CELL THAT IS BELOW THIS LINE\n",
    "\"\"\"\n",
    "tests.test_train_nn(train_neural_network)"
   ]
  },
  {
   "cell_type": "markdown",
   "metadata": {
    "deletable": true,
    "editable": true
   },
   "source": [
    "### Show Stats\n",
    "Implement the function `print_stats` to print loss and validation accuracy.  Use the global variables `valid_features` and `valid_labels` to calculate validation accuracy.  Use a keep probability of `1.0` to calculate the loss and validation accuracy."
   ]
  },
  {
   "cell_type": "code",
   "execution_count": 110,
   "metadata": {
    "collapsed": false,
    "deletable": true,
    "editable": true
   },
   "outputs": [],
   "source": [
    "def print_stats(session, feature_batch, label_batch, cost, accuracy):\n",
    "    \"\"\"\n",
    "    Print information about loss and validation accuracy\n",
    "    : session: Current TensorFlow session\n",
    "    : feature_batch: Batch of Numpy image data\n",
    "    : label_batch: Batch of Numpy label data\n",
    "    : cost: TensorFlow cost function\n",
    "    : accuracy: TensorFlow accuracy function\n",
    "    \"\"\"\n",
    "    # TODO: Implement Function\n",
    "    loss = session.run(cost, feed_dict={\n",
    "        x: feature_batch,\n",
    "        y: label_batch,\n",
    "        keep_prob: 1.\n",
    "    })\n",
    "    valid_acc = session.run(accuracy, feed_dict={\n",
    "        x: feature_batch,\n",
    "        y: label_batch,\n",
    "        keep_prob: 1.\n",
    "    })\n",
    "    \n",
    "    print(\"Loss: {:>6f} Validation Accuracy: {:.3f}\".format(loss, valid_acc))"
   ]
  },
  {
   "cell_type": "markdown",
   "metadata": {
    "deletable": true,
    "editable": true
   },
   "source": [
    "### Hyperparameters\n",
    "Tune the following parameters:\n",
    "* Set `epochs` to the number of iterations until the network stops learning or start overfitting\n",
    "* Set `batch_size` to the highest number that your machine has memory for.  Most people set them to common sizes of memory:\n",
    " * 64\n",
    " * 128\n",
    " * 256\n",
    " * ...\n",
    "* Set `keep_probability` to the probability of keeping a node using dropout"
   ]
  },
  {
   "cell_type": "code",
   "execution_count": 111,
   "metadata": {
    "collapsed": true,
    "deletable": true,
    "editable": true
   },
   "outputs": [],
   "source": [
    "# TODO: Tune Parameters\n",
    "epochs = 50\n",
    "batch_size = 256\n",
    "keep_probability = 0.5"
   ]
  },
  {
   "cell_type": "markdown",
   "metadata": {
    "deletable": true,
    "editable": true
   },
   "source": [
    "### Train on a Single CIFAR-10 Batch\n",
    "Instead of training the neural network on all the CIFAR-10 batches of data, let's use a single batch. This should save time while you iterate on the model to get a better accuracy.  Once the final validation accuracy is 50% or greater, run the model on all the data in the next section."
   ]
  },
  {
   "cell_type": "code",
   "execution_count": 112,
   "metadata": {
    "collapsed": false,
    "deletable": true,
    "editable": true
   },
   "outputs": [
    {
     "name": "stdout",
     "output_type": "stream",
     "text": [
      "Checking the Training on a Single Batch...\n",
      "Epoch  1, CIFAR-10 Batch 1:  Loss: 2.298023 Validation Accuracy: 0.175\n",
      "Epoch  2, CIFAR-10 Batch 1:  Loss: 2.284010 Validation Accuracy: 0.150\n",
      "Epoch  3, CIFAR-10 Batch 1:  Loss: 2.249769 Validation Accuracy: 0.100\n",
      "Epoch  4, CIFAR-10 Batch 1:  Loss: 2.172400 Validation Accuracy: 0.225\n",
      "Epoch  5, CIFAR-10 Batch 1:  Loss: 2.082544 Validation Accuracy: 0.250\n",
      "Epoch  6, CIFAR-10 Batch 1:  Loss: 1.991861 Validation Accuracy: 0.275\n",
      "Epoch  7, CIFAR-10 Batch 1:  Loss: 1.928897 Validation Accuracy: 0.275\n",
      "Epoch  8, CIFAR-10 Batch 1:  Loss: 1.888128 Validation Accuracy: 0.300\n",
      "Epoch  9, CIFAR-10 Batch 1:  Loss: 1.825020 Validation Accuracy: 0.300\n",
      "Epoch 10, CIFAR-10 Batch 1:  Loss: 1.797848 Validation Accuracy: 0.325\n",
      "Epoch 11, CIFAR-10 Batch 1:  Loss: 1.741199 Validation Accuracy: 0.325\n",
      "Epoch 12, CIFAR-10 Batch 1:  Loss: 1.708263 Validation Accuracy: 0.400\n",
      "Epoch 13, CIFAR-10 Batch 1:  Loss: 1.641797 Validation Accuracy: 0.425\n",
      "Epoch 14, CIFAR-10 Batch 1:  Loss: 1.609202 Validation Accuracy: 0.450\n",
      "Epoch 15, CIFAR-10 Batch 1:  Loss: 1.573125 Validation Accuracy: 0.550\n",
      "Epoch 16, CIFAR-10 Batch 1:  Loss: 1.527677 Validation Accuracy: 0.575\n",
      "Epoch 17, CIFAR-10 Batch 1:  Loss: 1.516029 Validation Accuracy: 0.575\n",
      "Epoch 18, CIFAR-10 Batch 1:  Loss: 1.464943 Validation Accuracy: 0.525\n",
      "Epoch 19, CIFAR-10 Batch 1:  Loss: 1.399296 Validation Accuracy: 0.550\n",
      "Epoch 20, CIFAR-10 Batch 1:  Loss: 1.420148 Validation Accuracy: 0.575\n",
      "Epoch 21, CIFAR-10 Batch 1:  Loss: 1.352550 Validation Accuracy: 0.575\n",
      "Epoch 22, CIFAR-10 Batch 1:  Loss: 1.315231 Validation Accuracy: 0.575\n",
      "Epoch 23, CIFAR-10 Batch 1:  Loss: 1.320905 Validation Accuracy: 0.575\n",
      "Epoch 24, CIFAR-10 Batch 1:  Loss: 1.270513 Validation Accuracy: 0.600\n",
      "Epoch 25, CIFAR-10 Batch 1:  Loss: 1.267862 Validation Accuracy: 0.625\n",
      "Epoch 26, CIFAR-10 Batch 1:  Loss: 1.287777 Validation Accuracy: 0.550\n",
      "Epoch 27, CIFAR-10 Batch 1:  Loss: 1.274466 Validation Accuracy: 0.575\n",
      "Epoch 28, CIFAR-10 Batch 1:  Loss: 1.231469 Validation Accuracy: 0.650\n",
      "Epoch 29, CIFAR-10 Batch 1:  Loss: 1.241306 Validation Accuracy: 0.625\n",
      "Epoch 30, CIFAR-10 Batch 1:  Loss: 1.214240 Validation Accuracy: 0.650\n",
      "Epoch 31, CIFAR-10 Batch 1:  Loss: 1.189942 Validation Accuracy: 0.625\n",
      "Epoch 32, CIFAR-10 Batch 1:  Loss: 1.189646 Validation Accuracy: 0.600\n",
      "Epoch 33, CIFAR-10 Batch 1:  Loss: 1.139794 Validation Accuracy: 0.650\n",
      "Epoch 34, CIFAR-10 Batch 1:  Loss: 1.123499 Validation Accuracy: 0.650\n",
      "Epoch 35, CIFAR-10 Batch 1:  Loss: 1.159584 Validation Accuracy: 0.650\n",
      "Epoch 36, CIFAR-10 Batch 1:  Loss: 1.139956 Validation Accuracy: 0.650\n",
      "Epoch 37, CIFAR-10 Batch 1:  Loss: 1.131830 Validation Accuracy: 0.700\n",
      "Epoch 38, CIFAR-10 Batch 1:  Loss: 1.095028 Validation Accuracy: 0.650\n",
      "Epoch 39, CIFAR-10 Batch 1:  Loss: 1.097078 Validation Accuracy: 0.650\n",
      "Epoch 40, CIFAR-10 Batch 1:  Loss: 1.059833 Validation Accuracy: 0.650\n",
      "Epoch 41, CIFAR-10 Batch 1:  Loss: 1.057412 Validation Accuracy: 0.650\n",
      "Epoch 42, CIFAR-10 Batch 1:  Loss: 1.039715 Validation Accuracy: 0.675\n",
      "Epoch 43, CIFAR-10 Batch 1:  Loss: 1.023769 Validation Accuracy: 0.650\n",
      "Epoch 44, CIFAR-10 Batch 1:  Loss: 1.007993 Validation Accuracy: 0.700\n",
      "Epoch 45, CIFAR-10 Batch 1:  Loss: 0.989733 Validation Accuracy: 0.700\n",
      "Epoch 46, CIFAR-10 Batch 1:  Loss: 1.010944 Validation Accuracy: 0.725\n",
      "Epoch 47, CIFAR-10 Batch 1:  Loss: 1.018148 Validation Accuracy: 0.700\n",
      "Epoch 48, CIFAR-10 Batch 1:  Loss: 0.978323 Validation Accuracy: 0.700\n",
      "Epoch 49, CIFAR-10 Batch 1:  Loss: 1.027247 Validation Accuracy: 0.700\n",
      "Epoch 50, CIFAR-10 Batch 1:  Loss: 1.011103 Validation Accuracy: 0.675\n"
     ]
    }
   ],
   "source": [
    "\"\"\"\n",
    "DON'T MODIFY ANYTHING IN THIS CELL\n",
    "\"\"\"\n",
    "print('Checking the Training on a Single Batch...')\n",
    "with tf.Session() as sess:\n",
    "    # Initializing the variables\n",
    "    sess.run(tf.global_variables_initializer())\n",
    "    \n",
    "    # Training cycle\n",
    "    for epoch in range(epochs):\n",
    "        batch_i = 1\n",
    "        for batch_features, batch_labels in helper.load_preprocess_training_batch(batch_i, batch_size):\n",
    "            train_neural_network(sess, optimizer, keep_probability, batch_features, batch_labels)\n",
    "        print('Epoch {:>2}, CIFAR-10 Batch {}:  '.format(epoch + 1, batch_i), end='')\n",
    "        print_stats(sess, batch_features, batch_labels, cost, accuracy)"
   ]
  },
  {
   "cell_type": "markdown",
   "metadata": {
    "deletable": true,
    "editable": true
   },
   "source": [
    "### Fully Train the Model\n",
    "Now that you got a good accuracy with a single CIFAR-10 batch, try it with all five batches."
   ]
  },
  {
   "cell_type": "code",
   "execution_count": 113,
   "metadata": {
    "collapsed": false,
    "deletable": true,
    "editable": true
   },
   "outputs": [
    {
     "name": "stdout",
     "output_type": "stream",
     "text": [
      "Training...\n",
      "Epoch  1, CIFAR-10 Batch 1:  Loss: 2.254371 Validation Accuracy: 0.150\n",
      "Epoch  1, CIFAR-10 Batch 2:  Loss: 2.230927 Validation Accuracy: 0.250\n",
      "Epoch  1, CIFAR-10 Batch 3:  Loss: 1.934443 Validation Accuracy: 0.275\n",
      "Epoch  1, CIFAR-10 Batch 4:  Loss: 2.047925 Validation Accuracy: 0.175\n",
      "Epoch  1, CIFAR-10 Batch 5:  Loss: 1.958390 Validation Accuracy: 0.450\n",
      "Epoch  2, CIFAR-10 Batch 1:  Loss: 2.094468 Validation Accuracy: 0.300\n",
      "Epoch  2, CIFAR-10 Batch 2:  Loss: 1.968017 Validation Accuracy: 0.325\n",
      "Epoch  2, CIFAR-10 Batch 3:  Loss: 1.752697 Validation Accuracy: 0.425\n",
      "Epoch  2, CIFAR-10 Batch 4:  Loss: 1.832386 Validation Accuracy: 0.275\n",
      "Epoch  2, CIFAR-10 Batch 5:  Loss: 1.899353 Validation Accuracy: 0.425\n",
      "Epoch  3, CIFAR-10 Batch 1:  Loss: 1.964445 Validation Accuracy: 0.350\n",
      "Epoch  3, CIFAR-10 Batch 2:  Loss: 1.764414 Validation Accuracy: 0.450\n",
      "Epoch  3, CIFAR-10 Batch 3:  Loss: 1.648346 Validation Accuracy: 0.450\n",
      "Epoch  3, CIFAR-10 Batch 4:  Loss: 1.691695 Validation Accuracy: 0.275\n",
      "Epoch  3, CIFAR-10 Batch 5:  Loss: 1.836965 Validation Accuracy: 0.450\n",
      "Epoch  4, CIFAR-10 Batch 1:  Loss: 1.771663 Validation Accuracy: 0.425\n",
      "Epoch  4, CIFAR-10 Batch 2:  Loss: 1.641428 Validation Accuracy: 0.475\n",
      "Epoch  4, CIFAR-10 Batch 3:  Loss: 1.545646 Validation Accuracy: 0.475\n",
      "Epoch  4, CIFAR-10 Batch 4:  Loss: 1.619206 Validation Accuracy: 0.350\n",
      "Epoch  4, CIFAR-10 Batch 5:  Loss: 1.765378 Validation Accuracy: 0.475\n",
      "Epoch  5, CIFAR-10 Batch 1:  Loss: 1.750446 Validation Accuracy: 0.400\n",
      "Epoch  5, CIFAR-10 Batch 2:  Loss: 1.537519 Validation Accuracy: 0.575\n",
      "Epoch  5, CIFAR-10 Batch 3:  Loss: 1.472735 Validation Accuracy: 0.500\n",
      "Epoch  5, CIFAR-10 Batch 4:  Loss: 1.621384 Validation Accuracy: 0.350\n",
      "Epoch  5, CIFAR-10 Batch 5:  Loss: 1.680360 Validation Accuracy: 0.450\n",
      "Epoch  6, CIFAR-10 Batch 1:  Loss: 1.652740 Validation Accuracy: 0.400\n",
      "Epoch  6, CIFAR-10 Batch 2:  Loss: 1.488721 Validation Accuracy: 0.525\n",
      "Epoch  6, CIFAR-10 Batch 3:  Loss: 1.325680 Validation Accuracy: 0.575\n",
      "Epoch  6, CIFAR-10 Batch 4:  Loss: 1.520988 Validation Accuracy: 0.400\n",
      "Epoch  6, CIFAR-10 Batch 5:  Loss: 1.654617 Validation Accuracy: 0.475\n",
      "Epoch  7, CIFAR-10 Batch 1:  Loss: 1.542262 Validation Accuracy: 0.425\n",
      "Epoch  7, CIFAR-10 Batch 2:  Loss: 1.417256 Validation Accuracy: 0.575\n",
      "Epoch  7, CIFAR-10 Batch 3:  Loss: 1.308198 Validation Accuracy: 0.675\n",
      "Epoch  7, CIFAR-10 Batch 4:  Loss: 1.518339 Validation Accuracy: 0.450\n",
      "Epoch  7, CIFAR-10 Batch 5:  Loss: 1.584281 Validation Accuracy: 0.450\n",
      "Epoch  8, CIFAR-10 Batch 1:  Loss: 1.499121 Validation Accuracy: 0.450\n",
      "Epoch  8, CIFAR-10 Batch 2:  Loss: 1.376645 Validation Accuracy: 0.600\n",
      "Epoch  8, CIFAR-10 Batch 3:  Loss: 1.243148 Validation Accuracy: 0.650\n",
      "Epoch  8, CIFAR-10 Batch 4:  Loss: 1.480857 Validation Accuracy: 0.450\n",
      "Epoch  8, CIFAR-10 Batch 5:  Loss: 1.552652 Validation Accuracy: 0.575\n",
      "Epoch  9, CIFAR-10 Batch 1:  Loss: 1.455202 Validation Accuracy: 0.450\n",
      "Epoch  9, CIFAR-10 Batch 2:  Loss: 1.312383 Validation Accuracy: 0.600\n",
      "Epoch  9, CIFAR-10 Batch 3:  Loss: 1.235440 Validation Accuracy: 0.650\n",
      "Epoch  9, CIFAR-10 Batch 4:  Loss: 1.501171 Validation Accuracy: 0.475\n",
      "Epoch  9, CIFAR-10 Batch 5:  Loss: 1.559927 Validation Accuracy: 0.550\n",
      "Epoch 10, CIFAR-10 Batch 1:  Loss: 1.405902 Validation Accuracy: 0.525\n",
      "Epoch 10, CIFAR-10 Batch 2:  Loss: 1.260823 Validation Accuracy: 0.625\n",
      "Epoch 10, CIFAR-10 Batch 3:  Loss: 1.195509 Validation Accuracy: 0.675\n",
      "Epoch 10, CIFAR-10 Batch 4:  Loss: 1.365589 Validation Accuracy: 0.550\n",
      "Epoch 10, CIFAR-10 Batch 5:  Loss: 1.560347 Validation Accuracy: 0.550\n",
      "Epoch 11, CIFAR-10 Batch 1:  Loss: 1.389185 Validation Accuracy: 0.525\n",
      "Epoch 11, CIFAR-10 Batch 2:  Loss: 1.260851 Validation Accuracy: 0.575\n",
      "Epoch 11, CIFAR-10 Batch 3:  Loss: 1.116281 Validation Accuracy: 0.725\n",
      "Epoch 11, CIFAR-10 Batch 4:  Loss: 1.385491 Validation Accuracy: 0.500\n",
      "Epoch 11, CIFAR-10 Batch 5:  Loss: 1.504076 Validation Accuracy: 0.575\n",
      "Epoch 12, CIFAR-10 Batch 1:  Loss: 1.368661 Validation Accuracy: 0.550\n",
      "Epoch 12, CIFAR-10 Batch 2:  Loss: 1.249771 Validation Accuracy: 0.625\n",
      "Epoch 12, CIFAR-10 Batch 3:  Loss: 1.148031 Validation Accuracy: 0.700\n",
      "Epoch 12, CIFAR-10 Batch 4:  Loss: 1.346853 Validation Accuracy: 0.500\n",
      "Epoch 12, CIFAR-10 Batch 5:  Loss: 1.422125 Validation Accuracy: 0.575\n",
      "Epoch 13, CIFAR-10 Batch 1:  Loss: 1.388084 Validation Accuracy: 0.525\n",
      "Epoch 13, CIFAR-10 Batch 2:  Loss: 1.246051 Validation Accuracy: 0.625\n",
      "Epoch 13, CIFAR-10 Batch 3:  Loss: 1.103726 Validation Accuracy: 0.700\n",
      "Epoch 13, CIFAR-10 Batch 4:  Loss: 1.326555 Validation Accuracy: 0.525\n",
      "Epoch 13, CIFAR-10 Batch 5:  Loss: 1.384896 Validation Accuracy: 0.600\n",
      "Epoch 14, CIFAR-10 Batch 1:  Loss: 1.348542 Validation Accuracy: 0.500\n",
      "Epoch 14, CIFAR-10 Batch 2:  Loss: 1.228958 Validation Accuracy: 0.625\n",
      "Epoch 14, CIFAR-10 Batch 3:  Loss: 1.084291 Validation Accuracy: 0.650\n",
      "Epoch 14, CIFAR-10 Batch 4:  Loss: 1.343347 Validation Accuracy: 0.525\n",
      "Epoch 14, CIFAR-10 Batch 5:  Loss: 1.360985 Validation Accuracy: 0.600\n",
      "Epoch 15, CIFAR-10 Batch 1:  Loss: 1.267794 Validation Accuracy: 0.550\n",
      "Epoch 15, CIFAR-10 Batch 2:  Loss: 1.160880 Validation Accuracy: 0.600\n",
      "Epoch 15, CIFAR-10 Batch 3:  Loss: 1.059065 Validation Accuracy: 0.700\n",
      "Epoch 15, CIFAR-10 Batch 4:  Loss: 1.281097 Validation Accuracy: 0.500\n",
      "Epoch 15, CIFAR-10 Batch 5:  Loss: 1.353477 Validation Accuracy: 0.625\n",
      "Epoch 16, CIFAR-10 Batch 1:  Loss: 1.302134 Validation Accuracy: 0.525\n",
      "Epoch 16, CIFAR-10 Batch 2:  Loss: 1.197614 Validation Accuracy: 0.600\n",
      "Epoch 16, CIFAR-10 Batch 3:  Loss: 1.090456 Validation Accuracy: 0.700\n",
      "Epoch 16, CIFAR-10 Batch 4:  Loss: 1.249756 Validation Accuracy: 0.550\n",
      "Epoch 16, CIFAR-10 Batch 5:  Loss: 1.322622 Validation Accuracy: 0.650\n",
      "Epoch 17, CIFAR-10 Batch 1:  Loss: 1.280773 Validation Accuracy: 0.575\n",
      "Epoch 17, CIFAR-10 Batch 2:  Loss: 1.142768 Validation Accuracy: 0.625\n",
      "Epoch 17, CIFAR-10 Batch 3:  Loss: 1.065100 Validation Accuracy: 0.675\n",
      "Epoch 17, CIFAR-10 Batch 4:  Loss: 1.267243 Validation Accuracy: 0.600\n",
      "Epoch 17, CIFAR-10 Batch 5:  Loss: 1.272899 Validation Accuracy: 0.675\n",
      "Epoch 18, CIFAR-10 Batch 1:  Loss: 1.265735 Validation Accuracy: 0.600\n",
      "Epoch 18, CIFAR-10 Batch 2:  Loss: 1.168169 Validation Accuracy: 0.675\n",
      "Epoch 18, CIFAR-10 Batch 3:  Loss: 1.023967 Validation Accuracy: 0.725\n",
      "Epoch 18, CIFAR-10 Batch 4:  Loss: 1.208124 Validation Accuracy: 0.600\n",
      "Epoch 18, CIFAR-10 Batch 5:  Loss: 1.262296 Validation Accuracy: 0.650\n",
      "Epoch 19, CIFAR-10 Batch 1:  Loss: 1.281239 Validation Accuracy: 0.600\n",
      "Epoch 19, CIFAR-10 Batch 2:  Loss: 1.130364 Validation Accuracy: 0.625\n",
      "Epoch 19, CIFAR-10 Batch 3:  Loss: 1.046048 Validation Accuracy: 0.750\n",
      "Epoch 19, CIFAR-10 Batch 4:  Loss: 1.212206 Validation Accuracy: 0.525\n",
      "Epoch 19, CIFAR-10 Batch 5:  Loss: 1.254893 Validation Accuracy: 0.625\n",
      "Epoch 20, CIFAR-10 Batch 1:  Loss: 1.207428 Validation Accuracy: 0.600\n",
      "Epoch 20, CIFAR-10 Batch 2:  Loss: 1.129078 Validation Accuracy: 0.650\n",
      "Epoch 20, CIFAR-10 Batch 3:  Loss: 1.058459 Validation Accuracy: 0.750\n",
      "Epoch 20, CIFAR-10 Batch 4:  Loss: 1.170252 Validation Accuracy: 0.650\n",
      "Epoch 20, CIFAR-10 Batch 5:  Loss: 1.249696 Validation Accuracy: 0.650\n",
      "Epoch 21, CIFAR-10 Batch 1:  Loss: 1.172388 Validation Accuracy: 0.675\n",
      "Epoch 21, CIFAR-10 Batch 2:  Loss: 1.104399 Validation Accuracy: 0.700\n",
      "Epoch 21, CIFAR-10 Batch 3:  Loss: 1.001436 Validation Accuracy: 0.775\n",
      "Epoch 21, CIFAR-10 Batch 4:  Loss: 1.149664 Validation Accuracy: 0.675\n",
      "Epoch 21, CIFAR-10 Batch 5:  Loss: 1.224271 Validation Accuracy: 0.650\n",
      "Epoch 22, CIFAR-10 Batch 1:  Loss: 1.176698 Validation Accuracy: 0.650\n",
      "Epoch 22, CIFAR-10 Batch 2:  Loss: 1.142400 Validation Accuracy: 0.650\n",
      "Epoch 22, CIFAR-10 Batch 3:  Loss: 1.018107 Validation Accuracy: 0.750\n",
      "Epoch 22, CIFAR-10 Batch 4:  Loss: 1.168841 Validation Accuracy: 0.675\n",
      "Epoch 22, CIFAR-10 Batch 5:  Loss: 1.145560 Validation Accuracy: 0.675\n",
      "Epoch 23, CIFAR-10 Batch 1:  Loss: 1.184502 Validation Accuracy: 0.650\n",
      "Epoch 23, CIFAR-10 Batch 2:  Loss: 1.095075 Validation Accuracy: 0.675\n",
      "Epoch 23, CIFAR-10 Batch 3:  Loss: 0.968488 Validation Accuracy: 0.750\n",
      "Epoch 23, CIFAR-10 Batch 4:  Loss: 1.178881 Validation Accuracy: 0.650\n",
      "Epoch 23, CIFAR-10 Batch 5:  Loss: 1.135520 Validation Accuracy: 0.650\n",
      "Epoch 24, CIFAR-10 Batch 1:  Loss: 1.150052 Validation Accuracy: 0.675\n",
      "Epoch 24, CIFAR-10 Batch 2:  Loss: 1.115594 Validation Accuracy: 0.650\n",
      "Epoch 24, CIFAR-10 Batch 3:  Loss: 0.955685 Validation Accuracy: 0.675\n",
      "Epoch 24, CIFAR-10 Batch 4:  Loss: 1.140492 Validation Accuracy: 0.625\n",
      "Epoch 24, CIFAR-10 Batch 5:  Loss: 1.136848 Validation Accuracy: 0.600\n",
      "Epoch 25, CIFAR-10 Batch 1:  Loss: 1.153494 Validation Accuracy: 0.675\n",
      "Epoch 25, CIFAR-10 Batch 2:  Loss: 1.081441 Validation Accuracy: 0.625\n",
      "Epoch 25, CIFAR-10 Batch 3:  Loss: 0.985557 Validation Accuracy: 0.725\n",
      "Epoch 25, CIFAR-10 Batch 4:  Loss: 1.131062 Validation Accuracy: 0.675\n",
      "Epoch 25, CIFAR-10 Batch 5:  Loss: 1.118735 Validation Accuracy: 0.625\n",
      "Epoch 26, CIFAR-10 Batch 1:  Loss: 1.131134 Validation Accuracy: 0.625\n",
      "Epoch 26, CIFAR-10 Batch 2:  Loss: 1.050778 Validation Accuracy: 0.700\n",
      "Epoch 26, CIFAR-10 Batch 3:  Loss: 0.926898 Validation Accuracy: 0.750\n",
      "Epoch 26, CIFAR-10 Batch 4:  Loss: 1.114123 Validation Accuracy: 0.625\n",
      "Epoch 26, CIFAR-10 Batch 5:  Loss: 1.110967 Validation Accuracy: 0.650\n",
      "Epoch 27, CIFAR-10 Batch 1:  Loss: 1.149201 Validation Accuracy: 0.625\n",
      "Epoch 27, CIFAR-10 Batch 2:  Loss: 1.044610 Validation Accuracy: 0.675\n",
      "Epoch 27, CIFAR-10 Batch 3:  Loss: 0.937824 Validation Accuracy: 0.800\n",
      "Epoch 27, CIFAR-10 Batch 4:  Loss: 1.125323 Validation Accuracy: 0.675\n",
      "Epoch 27, CIFAR-10 Batch 5:  Loss: 1.096822 Validation Accuracy: 0.650\n",
      "Epoch 28, CIFAR-10 Batch 1:  Loss: 1.121625 Validation Accuracy: 0.625\n",
      "Epoch 28, CIFAR-10 Batch 2:  Loss: 1.099307 Validation Accuracy: 0.575\n",
      "Epoch 28, CIFAR-10 Batch 3:  Loss: 0.953090 Validation Accuracy: 0.750\n",
      "Epoch 28, CIFAR-10 Batch 4:  Loss: 1.165274 Validation Accuracy: 0.650\n",
      "Epoch 28, CIFAR-10 Batch 5:  Loss: 1.113281 Validation Accuracy: 0.675\n",
      "Epoch 29, CIFAR-10 Batch 1:  Loss: 1.080245 Validation Accuracy: 0.650\n",
      "Epoch 29, CIFAR-10 Batch 2:  Loss: 1.029806 Validation Accuracy: 0.675\n",
      "Epoch 29, CIFAR-10 Batch 3:  Loss: 0.905496 Validation Accuracy: 0.725\n",
      "Epoch 29, CIFAR-10 Batch 4:  Loss: 1.154631 Validation Accuracy: 0.650\n",
      "Epoch 29, CIFAR-10 Batch 5:  Loss: 1.058834 Validation Accuracy: 0.625\n",
      "Epoch 30, CIFAR-10 Batch 1:  Loss: 1.097770 Validation Accuracy: 0.700\n",
      "Epoch 30, CIFAR-10 Batch 2:  Loss: 1.003934 Validation Accuracy: 0.625\n",
      "Epoch 30, CIFAR-10 Batch 3:  Loss: 0.932787 Validation Accuracy: 0.775\n",
      "Epoch 30, CIFAR-10 Batch 4:  Loss: 1.099077 Validation Accuracy: 0.675\n",
      "Epoch 30, CIFAR-10 Batch 5:  Loss: 1.058442 Validation Accuracy: 0.675\n",
      "Epoch 31, CIFAR-10 Batch 1:  Loss: 1.119099 Validation Accuracy: 0.675\n",
      "Epoch 31, CIFAR-10 Batch 2:  Loss: 1.050119 Validation Accuracy: 0.600\n",
      "Epoch 31, CIFAR-10 Batch 3:  Loss: 0.871908 Validation Accuracy: 0.775\n",
      "Epoch 31, CIFAR-10 Batch 4:  Loss: 1.080419 Validation Accuracy: 0.725\n",
      "Epoch 31, CIFAR-10 Batch 5:  Loss: 1.094437 Validation Accuracy: 0.675\n",
      "Epoch 32, CIFAR-10 Batch 1:  Loss: 1.087420 Validation Accuracy: 0.700\n",
      "Epoch 32, CIFAR-10 Batch 2:  Loss: 1.003223 Validation Accuracy: 0.625\n",
      "Epoch 32, CIFAR-10 Batch 3:  Loss: 0.900954 Validation Accuracy: 0.800\n",
      "Epoch 32, CIFAR-10 Batch 4:  Loss: 1.078113 Validation Accuracy: 0.650\n",
      "Epoch 32, CIFAR-10 Batch 5:  Loss: 1.058623 Validation Accuracy: 0.700\n",
      "Epoch 33, CIFAR-10 Batch 1:  Loss: 1.086818 Validation Accuracy: 0.625\n",
      "Epoch 33, CIFAR-10 Batch 2:  Loss: 1.034755 Validation Accuracy: 0.600\n",
      "Epoch 33, CIFAR-10 Batch 3:  Loss: 0.844593 Validation Accuracy: 0.750\n",
      "Epoch 33, CIFAR-10 Batch 4:  Loss: 1.052554 Validation Accuracy: 0.750\n",
      "Epoch 33, CIFAR-10 Batch 5:  Loss: 1.053039 Validation Accuracy: 0.725\n",
      "Epoch 34, CIFAR-10 Batch 1:  Loss: 1.082176 Validation Accuracy: 0.650\n",
      "Epoch 34, CIFAR-10 Batch 2:  Loss: 1.018865 Validation Accuracy: 0.675\n",
      "Epoch 34, CIFAR-10 Batch 3:  Loss: 0.845096 Validation Accuracy: 0.825\n",
      "Epoch 34, CIFAR-10 Batch 4:  Loss: 1.035656 Validation Accuracy: 0.700\n",
      "Epoch 34, CIFAR-10 Batch 5:  Loss: 1.045825 Validation Accuracy: 0.725\n",
      "Epoch 35, CIFAR-10 Batch 1:  Loss: 1.039632 Validation Accuracy: 0.700\n",
      "Epoch 35, CIFAR-10 Batch 2:  Loss: 0.984323 Validation Accuracy: 0.675\n",
      "Epoch 35, CIFAR-10 Batch 3:  Loss: 0.821786 Validation Accuracy: 0.800\n",
      "Epoch 35, CIFAR-10 Batch 4:  Loss: 1.040846 Validation Accuracy: 0.725\n",
      "Epoch 35, CIFAR-10 Batch 5:  Loss: 0.987006 Validation Accuracy: 0.725\n",
      "Epoch 36, CIFAR-10 Batch 1:  Loss: 1.031226 Validation Accuracy: 0.725\n",
      "Epoch 36, CIFAR-10 Batch 2:  Loss: 1.001104 Validation Accuracy: 0.650\n",
      "Epoch 36, CIFAR-10 Batch 3:  Loss: 0.826222 Validation Accuracy: 0.800\n",
      "Epoch 36, CIFAR-10 Batch 4:  Loss: 1.020308 Validation Accuracy: 0.675\n",
      "Epoch 36, CIFAR-10 Batch 5:  Loss: 0.995359 Validation Accuracy: 0.725\n",
      "Epoch 37, CIFAR-10 Batch 1:  Loss: 1.038700 Validation Accuracy: 0.725\n",
      "Epoch 37, CIFAR-10 Batch 2:  Loss: 0.940927 Validation Accuracy: 0.675\n",
      "Epoch 37, CIFAR-10 Batch 3:  Loss: 0.840305 Validation Accuracy: 0.800\n",
      "Epoch 37, CIFAR-10 Batch 4:  Loss: 1.047871 Validation Accuracy: 0.700\n",
      "Epoch 37, CIFAR-10 Batch 5:  Loss: 0.986091 Validation Accuracy: 0.700\n",
      "Epoch 38, CIFAR-10 Batch 1:  Loss: 1.059457 Validation Accuracy: 0.675\n",
      "Epoch 38, CIFAR-10 Batch 2:  Loss: 0.949383 Validation Accuracy: 0.675\n",
      "Epoch 38, CIFAR-10 Batch 3:  Loss: 0.782614 Validation Accuracy: 0.800\n",
      "Epoch 38, CIFAR-10 Batch 4:  Loss: 1.053869 Validation Accuracy: 0.700\n",
      "Epoch 38, CIFAR-10 Batch 5:  Loss: 0.997359 Validation Accuracy: 0.725\n",
      "Epoch 39, CIFAR-10 Batch 1:  Loss: 1.047315 Validation Accuracy: 0.750\n",
      "Epoch 39, CIFAR-10 Batch 2:  Loss: 0.967376 Validation Accuracy: 0.700\n",
      "Epoch 39, CIFAR-10 Batch 3:  Loss: 0.771328 Validation Accuracy: 0.825\n",
      "Epoch 39, CIFAR-10 Batch 4:  Loss: 0.985578 Validation Accuracy: 0.775\n",
      "Epoch 39, CIFAR-10 Batch 5:  Loss: 0.951305 Validation Accuracy: 0.750\n",
      "Epoch 40, CIFAR-10 Batch 1:  Loss: 1.012570 Validation Accuracy: 0.700\n",
      "Epoch 40, CIFAR-10 Batch 2:  Loss: 0.962498 Validation Accuracy: 0.675\n",
      "Epoch 40, CIFAR-10 Batch 3:  Loss: 0.814069 Validation Accuracy: 0.775\n",
      "Epoch 40, CIFAR-10 Batch 4:  Loss: 1.002760 Validation Accuracy: 0.750\n",
      "Epoch 40, CIFAR-10 Batch 5:  Loss: 0.962682 Validation Accuracy: 0.725\n",
      "Epoch 41, CIFAR-10 Batch 1:  Loss: 1.029633 Validation Accuracy: 0.750\n",
      "Epoch 41, CIFAR-10 Batch 2:  Loss: 0.962754 Validation Accuracy: 0.650\n",
      "Epoch 41, CIFAR-10 Batch 3:  Loss: 0.848322 Validation Accuracy: 0.875\n",
      "Epoch 41, CIFAR-10 Batch 4:  Loss: 1.007569 Validation Accuracy: 0.675\n",
      "Epoch 41, CIFAR-10 Batch 5:  Loss: 0.944195 Validation Accuracy: 0.650\n",
      "Epoch 42, CIFAR-10 Batch 1:  Loss: 1.020962 Validation Accuracy: 0.750\n",
      "Epoch 42, CIFAR-10 Batch 2:  Loss: 0.912233 Validation Accuracy: 0.700\n",
      "Epoch 42, CIFAR-10 Batch 3:  Loss: 0.783092 Validation Accuracy: 0.875\n",
      "Epoch 42, CIFAR-10 Batch 4:  Loss: 1.012915 Validation Accuracy: 0.725\n",
      "Epoch 42, CIFAR-10 Batch 5:  Loss: 0.948540 Validation Accuracy: 0.650\n",
      "Epoch 43, CIFAR-10 Batch 1:  Loss: 1.001338 Validation Accuracy: 0.750\n",
      "Epoch 43, CIFAR-10 Batch 2:  Loss: 0.927238 Validation Accuracy: 0.725\n",
      "Epoch 43, CIFAR-10 Batch 3:  Loss: 0.749186 Validation Accuracy: 0.800\n",
      "Epoch 43, CIFAR-10 Batch 4:  Loss: 0.994292 Validation Accuracy: 0.725\n",
      "Epoch 43, CIFAR-10 Batch 5:  Loss: 0.915715 Validation Accuracy: 0.725\n",
      "Epoch 44, CIFAR-10 Batch 1:  Loss: 1.015657 Validation Accuracy: 0.700\n",
      "Epoch 44, CIFAR-10 Batch 2:  Loss: 0.931304 Validation Accuracy: 0.725\n",
      "Epoch 44, CIFAR-10 Batch 3:  Loss: 0.804790 Validation Accuracy: 0.900\n",
      "Epoch 44, CIFAR-10 Batch 4:  Loss: 0.956975 Validation Accuracy: 0.725\n",
      "Epoch 44, CIFAR-10 Batch 5:  Loss: 0.968804 Validation Accuracy: 0.700\n",
      "Epoch 45, CIFAR-10 Batch 1:  Loss: 0.993542 Validation Accuracy: 0.725\n",
      "Epoch 45, CIFAR-10 Batch 2:  Loss: 0.920699 Validation Accuracy: 0.750\n",
      "Epoch 45, CIFAR-10 Batch 3:  Loss: 0.792443 Validation Accuracy: 0.825\n",
      "Epoch 45, CIFAR-10 Batch 4:  Loss: 0.989196 Validation Accuracy: 0.725\n",
      "Epoch 45, CIFAR-10 Batch 5:  Loss: 0.976839 Validation Accuracy: 0.700\n",
      "Epoch 46, CIFAR-10 Batch 1:  Loss: 0.992120 Validation Accuracy: 0.700\n",
      "Epoch 46, CIFAR-10 Batch 2:  Loss: 0.905539 Validation Accuracy: 0.700\n",
      "Epoch 46, CIFAR-10 Batch 3:  Loss: 0.790103 Validation Accuracy: 0.775\n",
      "Epoch 46, CIFAR-10 Batch 4:  Loss: 0.974082 Validation Accuracy: 0.725\n",
      "Epoch 46, CIFAR-10 Batch 5:  Loss: 0.958934 Validation Accuracy: 0.700\n",
      "Epoch 47, CIFAR-10 Batch 1:  Loss: 1.005314 Validation Accuracy: 0.725\n",
      "Epoch 47, CIFAR-10 Batch 2:  Loss: 0.871459 Validation Accuracy: 0.725\n",
      "Epoch 47, CIFAR-10 Batch 3:  Loss: 0.766519 Validation Accuracy: 0.800\n",
      "Epoch 47, CIFAR-10 Batch 4:  Loss: 0.955384 Validation Accuracy: 0.675\n",
      "Epoch 47, CIFAR-10 Batch 5:  Loss: 0.922633 Validation Accuracy: 0.725\n",
      "Epoch 48, CIFAR-10 Batch 1:  Loss: 0.982334 Validation Accuracy: 0.700\n",
      "Epoch 48, CIFAR-10 Batch 2:  Loss: 0.898324 Validation Accuracy: 0.725\n",
      "Epoch 48, CIFAR-10 Batch 3:  Loss: 0.758433 Validation Accuracy: 0.875\n",
      "Epoch 48, CIFAR-10 Batch 4:  Loss: 0.969475 Validation Accuracy: 0.775\n",
      "Epoch 48, CIFAR-10 Batch 5:  Loss: 0.923771 Validation Accuracy: 0.750\n",
      "Epoch 49, CIFAR-10 Batch 1:  Loss: 0.960626 Validation Accuracy: 0.725\n",
      "Epoch 49, CIFAR-10 Batch 2:  Loss: 0.880897 Validation Accuracy: 0.750\n",
      "Epoch 49, CIFAR-10 Batch 3:  Loss: 0.730469 Validation Accuracy: 0.875\n",
      "Epoch 49, CIFAR-10 Batch 4:  Loss: 0.962679 Validation Accuracy: 0.750\n",
      "Epoch 49, CIFAR-10 Batch 5:  Loss: 0.926095 Validation Accuracy: 0.700\n",
      "Epoch 50, CIFAR-10 Batch 1:  Loss: 0.972912 Validation Accuracy: 0.675\n",
      "Epoch 50, CIFAR-10 Batch 2:  Loss: 0.884062 Validation Accuracy: 0.725\n",
      "Epoch 50, CIFAR-10 Batch 3:  Loss: 0.756287 Validation Accuracy: 0.875\n",
      "Epoch 50, CIFAR-10 Batch 4:  Loss: 0.936190 Validation Accuracy: 0.750\n",
      "Epoch 50, CIFAR-10 Batch 5:  Loss: 0.959821 Validation Accuracy: 0.725\n"
     ]
    }
   ],
   "source": [
    "\"\"\"\n",
    "DON'T MODIFY ANYTHING IN THIS CELL\n",
    "\"\"\"\n",
    "save_model_path = './image_classification'\n",
    "\n",
    "print('Training...')\n",
    "with tf.Session() as sess:\n",
    "    # Initializing the variables\n",
    "    sess.run(tf.global_variables_initializer())\n",
    "    \n",
    "    # Training cycle\n",
    "    for epoch in range(epochs):\n",
    "        # Loop over all batches\n",
    "        n_batches = 5\n",
    "        for batch_i in range(1, n_batches + 1):\n",
    "            for batch_features, batch_labels in helper.load_preprocess_training_batch(batch_i, batch_size):\n",
    "                train_neural_network(sess, optimizer, keep_probability, batch_features, batch_labels)\n",
    "            print('Epoch {:>2}, CIFAR-10 Batch {}:  '.format(epoch + 1, batch_i), end='')\n",
    "            print_stats(sess, batch_features, batch_labels, cost, accuracy)\n",
    "            \n",
    "    # Save Model\n",
    "    saver = tf.train.Saver()\n",
    "    save_path = saver.save(sess, save_model_path)"
   ]
  },
  {
   "cell_type": "markdown",
   "metadata": {
    "deletable": true,
    "editable": true
   },
   "source": [
    "# Checkpoint\n",
    "The model has been saved to disk.\n",
    "## Test Model\n",
    "Test your model against the test dataset.  This will be your final accuracy. You should have an accuracy greater than 50%. If you don't, keep tweaking the model architecture and parameters."
   ]
  },
  {
   "cell_type": "code",
   "execution_count": 114,
   "metadata": {
    "collapsed": false,
    "deletable": true,
    "editable": true
   },
   "outputs": [
    {
     "name": "stdout",
     "output_type": "stream",
     "text": [
      "Testing Accuracy: 0.602734375\n",
      "\n"
     ]
    },
    {
     "data": {
      "image/png": "[encoded data removed]",
      "text/plain": [
       "<matplotlib.figure.Figure at 0x7ffb42fb07f0>"
      ]
     },
     "metadata": {
      "image/png": {
       "height": 319,
       "width": 355
      }
     },
     "output_type": "display_data"
    }
   ],
   "source": [
    "\"\"\"\n",
    "DON'T MODIFY ANYTHING IN THIS CELL\n",
    "\"\"\"\n",
    "%matplotlib inline\n",
    "%config InlineBackend.figure_format = 'retina'\n",
    "\n",
    "import tensorflow as tf\n",
    "import pickle\n",
    "import helper\n",
    "import random\n",
    "\n",
    "# Set batch size if not already set\n",
    "try:\n",
    "    if batch_size:\n",
    "        pass\n",
    "except NameError:\n",
    "    batch_size = 64\n",
    "\n",
    "save_model_path = './image_classification'\n",
    "n_samples = 4\n",
    "top_n_predictions = 3\n",
    "\n",
    "def test_model():\n",
    "    \"\"\"\n",
    "    Test the saved model against the test dataset\n",
    "    \"\"\"\n",
    "\n",
    "    test_features, test_labels = pickle.load(open('preprocess_training.p', mode='rb'))\n",
    "    loaded_graph = tf.Graph()\n",
    "\n",
    "    with tf.Session(graph=loaded_graph) as sess:\n",
    "        # Load model\n",
    "        loader = tf.train.import_meta_graph(save_model_path + '.meta')\n",
    "        loader.restore(sess, save_model_path)\n",
    "\n",
    "        # Get Tensors from loaded model\n",
    "        loaded_x = loaded_graph.get_tensor_by_name('x:0')\n",
    "        loaded_y = loaded_graph.get_tensor_by_name('y:0')\n",
    "        loaded_keep_prob = loaded_graph.get_tensor_by_name('keep_prob:0')\n",
    "        loaded_logits = loaded_graph.get_tensor_by_name('logits:0')\n",
    "        loaded_acc = loaded_graph.get_tensor_by_name('accuracy:0')\n",
    "        \n",
    "        # Get accuracy in batches for memory limitations\n",
    "        test_batch_acc_total = 0\n",
    "        test_batch_count = 0\n",
    "        \n",
    "        for train_feature_batch, train_label_batch in helper.batch_features_labels(test_features, test_labels, batch_size):\n",
    "            test_batch_acc_total += sess.run(\n",
    "                loaded_acc,\n",
    "                feed_dict={loaded_x: train_feature_batch, loaded_y: train_label_batch, loaded_keep_prob: 1.0})\n",
    "            test_batch_count += 1\n",
    "\n",
    "        print('Testing Accuracy: {}\\n'.format(test_batch_acc_total/test_batch_count))\n",
    "\n",
    "        # Print Random Samples\n",
    "        random_test_features, random_test_labels = tuple(zip(*random.sample(list(zip(test_features, test_labels)), n_samples)))\n",
    "        random_test_predictions = sess.run(\n",
    "            tf.nn.top_k(tf.nn.softmax(loaded_logits), top_n_predictions),\n",
    "            feed_dict={loaded_x: random_test_features, loaded_y: random_test_labels, loaded_keep_prob: 1.0})\n",
    "        helper.display_image_predictions(random_test_features, random_test_labels, random_test_predictions)\n",
    "\n",
    "\n",
    "test_model()"
   ]
  },
  {
   "cell_type": "markdown",
   "metadata": {
    "deletable": true,
    "editable": true
   },
   "source": [
    "## Why 50-70% Accuracy?\n",
    "You might be wondering why you can't get an accuracy any higher. First things first, 50% isn't bad for a simple CNN.  Pure guessing would get you 10% accuracy. However, you might notice people are getting scores [well above 70%](http://rodrigob.github.io/are_we_there_yet/build/classification_datasets_results.html#43494641522d3130).  That's because we haven't taught you all there is to know about neural networks. We still need to cover a few more techniques.\n",
    "## Submitting This Project\n",
    "When submitting this project, make sure to run all the cells before saving the notebook.  Save the notebook file as \"dlnd_image_classification.ipynb\" and save it as a HTML file under \"File\" -> \"Download as\".  Include the \"helper.py\" and \"problem_unittests.py\" files in your submission."
   ]
  }
 ],
 "metadata": {
  "kernelspec": {
   "display_name": "Python [default]",
   "language": "python",
   "name": "python3"
  },
  "language_info": {
   "codemirror_mode": {
    "name": "ipython",
    "version": 3
   },
   "file_extension": ".py",
   "mimetype": "text/x-python",
   "name": "python",
   "nbconvert_exporter": "python",
   "pygments_lexer": "ipython3",
   "version": "3.5.2"
  }
 },
 "nbformat": 4,
 "nbformat_minor": 0
}
